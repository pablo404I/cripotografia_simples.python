{
  "nbformat": 4,
  "nbformat_minor": 0,
  "metadata": {
    "colab": {
      "provenance": [],
      "authorship_tag": "ABX9TyPob036lFBxchZfDVtOzEfE",
      "include_colab_link": true
    },
    "kernelspec": {
      "name": "python3",
      "display_name": "Python 3"
    },
    "language_info": {
      "name": "python"
    }
  },
  "cells": [
    {
      "cell_type": "markdown",
      "metadata": {
        "id": "view-in-github",
        "colab_type": "text"
      },
      "source": [
        "<a href=\"https://colab.research.google.com/github/pablo404I/cripotografia_simples.python/blob/main/criptografia.ipynb\" target=\"_parent\"><img src=\"https://colab.research.google.com/assets/colab-badge.svg\" alt=\"Open In Colab\"/></a>"
      ]
    },
    {
      "cell_type": "code",
      "execution_count": null,
      "metadata": {
        "id": "8_mmPna1O16w"
      },
      "outputs": [],
      "source": [
        "def exercicio1 ():\n",
        "  palavra = input (\"digite uma palavra: \")\n",
        "  lista = list(palavra)\n",
        "  segredo =\"\"\n",
        "  for x in lista:\n",
        "    if (x=='z'): segredo+= 'a'\n",
        "    elif (x=='Z'): segredo+= 'A'\n",
        "    else: segredo+= chr(ord(x)+1)\n",
        "  print (segredo)\n",
        "  #instrução: antes de tudo rode esse e o próximo codigo,após, crie uma nova aba de código, escreva \"exercicio1  ()\" de enter, escreva a palavra de preferencia depois execute o enter novamente"
      ]
    },
    {
      "cell_type": "code",
      "source": [
        "def exercicio2 ():\n",
        "  palavra = input (\"revele o segredo: \")\n",
        "  lista = list(palavra)\n",
        "  segredo =\"\"\n",
        "  for x in lista:\n",
        "    if (x=='z'): segredo-= 'a'\n",
        "    elif (x=='Z'): segredo-= 'A'\n",
        "    else: segredo+= chr(ord(x)-1)\n",
        "  print (segredo)\n",
        "  #instrução: pegue o produto da operação anterior, e utilizando os mesmos passos, mas agora inserindo a palavra já criptografada"
      ],
      "metadata": {
        "id": "i9uXKaSRO3mP"
      },
      "execution_count": null,
      "outputs": []
    }
  ]
}